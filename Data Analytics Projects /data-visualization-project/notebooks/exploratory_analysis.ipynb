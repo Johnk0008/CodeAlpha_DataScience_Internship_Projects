{
 "cells": [
  {
   "cell_type": "markdown",
   "id": "d47d7223",
   "metadata": {},
   "source": [
    "###### This would be a Jupyter notebook for exploratory analysis\n",
    "###### Content would include data exploration, basic visualizations, and insights"
   ]
  },
  {
   "cell_type": "code",
   "execution_count": null,
   "id": "956e174f",
   "metadata": {
    "vscode": {
     "languageId": "plaintext"
    }
   },
   "outputs": [],
   "source": []
  },
  {
   "cell_type": "code",
   "execution_count": null,
   "id": "b9cb47d5",
   "metadata": {
    "vscode": {
     "languageId": "plaintext"
    }
   },
   "outputs": [],
   "source": []
  }
 ],
 "metadata": {
  "language_info": {
   "name": "python"
  }
 },
 "nbformat": 4,
 "nbformat_minor": 5
}
