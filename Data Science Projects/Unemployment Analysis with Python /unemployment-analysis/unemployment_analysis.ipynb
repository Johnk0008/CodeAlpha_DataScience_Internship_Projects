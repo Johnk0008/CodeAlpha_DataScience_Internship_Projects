{
 "cells": [
  {
   "cell_type": "markdown",
   "id": "b6d92ba7",
   "metadata": {},
   "source": [
    "#### This would be a separate .ipynb file with the same code structured for Jupyter"
   ]
  }
 ],
 "metadata": {
  "language_info": {
   "name": "python"
  }
 },
 "nbformat": 4,
 "nbformat_minor": 5
}
